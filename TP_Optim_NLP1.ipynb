{
 "cells": [
  {
   "cell_type": "markdown",
   "id": "d200ecfd",
   "metadata": {},
   "source": [
    "# 1. Unconstrained optimization"
   ]
  },
  {
   "cell_type": "code",
   "execution_count": 1,
   "id": "81a723a2",
   "metadata": {},
   "outputs": [],
   "source": [
    "import pandas as pd\n",
    "import numpy as np\n",
    "import matplotlib.pyplot as plt"
   ]
  },
  {
   "cell_type": "code",
   "execution_count": 2,
   "id": "3c05dae2",
   "metadata": {},
   "outputs": [],
   "source": [
    "def oracle1(x, mode):\n",
    "    f=[]\n",
    "    g=[]\n",
    "    if mode==1 or mode==2:\n",
    "        f=[x[0]**2 + x[1]**2 -2*x[0]*x[1]]\n",
    "    if mode==2 or mode==3:\n",
    "        g=[2*x[0] - 2*x[1]]\n",
    "        g.append(2*x[1] - 2*x[0])\n",
    "    return [f,g]"
   ]
  },
  {
   "cell_type": "code",
   "execution_count": 5,
   "id": "6576fe3a",
   "metadata": {},
   "outputs": [
    {
     "data": {
      "text/plain": [
       "[[1], [2, -2]]"
      ]
     },
     "execution_count": 5,
     "metadata": {},
     "output_type": "execute_result"
    }
   ],
   "source": [
    "x=[2,1]\n",
    "oracle1(x,2)\n"
   ]
  },
  {
   "cell_type": "code",
   "execution_count": 7,
   "id": "4284c9f3",
   "metadata": {},
   "outputs": [],
   "source": [
    "def oracle2(x, mode):\n",
    "    f=[]\n",
    "    g=[]\n",
    "    if mode==1 or mode==2:\n",
    "        f=[10*(x[1]-x[0]**2)**2 + (1-x[0])**2]\n",
    "    if mode==2 or mode==3:\n",
    "        g=[-40*x[0]*(x[0]-x[1]**2) -2 + 2*x[0]]\n",
    "        g.append(20*(x[1] - x[0]**2))\n",
    "    return [f,g]"
   ]
  },
  {
   "cell_type": "code",
   "execution_count": 8,
   "id": "1c2f1e76",
   "metadata": {},
   "outputs": [
    {
     "data": {
      "text/plain": [
       "[[91], [-78, -60]]"
      ]
     },
     "execution_count": 8,
     "metadata": {},
     "output_type": "execute_result"
    }
   ],
   "source": [
    "x=[2,1]\n",
    "oracle2(x,2)"
   ]
  },
  {
   "cell_type": "code",
   "execution_count": 9,
   "id": "2ee22bad",
   "metadata": {},
   "outputs": [],
   "source": [
    "def oracle3(x, mode):\n",
    "    f=[]\n",
    "    g=[]\n",
    "    if mode==1 or mode==2:\n",
    "        f=[1/2*(x[0]**2+x[1]**2)]\n",
    "    if mode==2 or mode==3:\n",
    "        g=[1/2*(2*x[0])*(x[0]**2+x[1]**2)]\n",
    "        g.append(1/2*(2*x[1])*(x[0]**2+x[1]**2))\n",
    "    return [f,g]"
   ]
  },
  {
   "cell_type": "code",
   "execution_count": 24,
   "id": "42ea372b",
   "metadata": {
    "scrolled": true
   },
   "outputs": [
    {
     "data": {
      "text/plain": [
       "[[2.5], [10.0, 5.0]]"
      ]
     },
     "execution_count": 24,
     "metadata": {},
     "output_type": "execute_result"
    }
   ],
   "source": [
    "x=[2,1]\n",
    "oracle3(x,2)"
   ]
  },
  {
   "cell_type": "code",
   "execution_count": 11,
   "id": "484a16fa",
   "metadata": {},
   "outputs": [],
   "source": [
    "def norme(x):\n",
    "    return [((x[0]**2+x[1]**2))**1/2]"
   ]
  },
  {
   "cell_type": "code",
   "execution_count": 12,
   "id": "96ef354d",
   "metadata": {},
   "outputs": [
    {
     "data": {
      "text/plain": [
       "[2.5]"
      ]
     },
     "execution_count": 12,
     "metadata": {},
     "output_type": "execute_result"
    }
   ],
   "source": [
    "norme(x)"
   ]
  },
  {
   "cell_type": "code",
   "execution_count": 13,
   "id": "f3e4e18e",
   "metadata": {},
   "outputs": [],
   "source": [
    "def methode_gradient(x, n, k=0, MaxIt=1000, t=0.5, tol=10e-6):\n",
    "    d=[]\n",
    "    f=oracle1(x, 2)\n",
    "    while norme(g) > tol:\n",
    "        d[k]=-f[1]\n",
    "        \n",
    "        \n",
    "        \n",
    "    \n",
    "    "
   ]
  },
  {
   "cell_type": "code",
   "execution_count": 14,
   "id": "1f9406a7",
   "metadata": {},
   "outputs": [
    {
     "ename": "NameError",
     "evalue": "name 'g' is not defined",
     "output_type": "error",
     "traceback": [
      "\u001b[1;31m---------------------------------------------------------------------------\u001b[0m",
      "\u001b[1;31mNameError\u001b[0m                                 Traceback (most recent call last)",
      "Input \u001b[1;32mIn [14]\u001b[0m, in \u001b[0;36m<cell line: 1>\u001b[1;34m()\u001b[0m\n\u001b[1;32m----> 1\u001b[0m d[k]\u001b[38;5;241m=\u001b[39m\u001b[38;5;241m-\u001b[39m\u001b[43mg\u001b[49m\n",
      "\u001b[1;31mNameError\u001b[0m: name 'g' is not defined"
     ]
    }
   ],
   "source": []
  },
  {
   "cell_type": "code",
   "execution_count": null,
   "id": "49589a97",
   "metadata": {},
   "outputs": [],
   "source": []
  }
 ],
 "metadata": {
  "kernelspec": {
   "display_name": "Python 3.9.12 ('base')",
   "language": "python",
   "name": "python3"
  },
  "language_info": {
   "codemirror_mode": {
    "name": "ipython",
    "version": 3
   },
   "file_extension": ".py",
   "mimetype": "text/x-python",
   "name": "python",
   "nbconvert_exporter": "python",
   "pygments_lexer": "ipython3",
   "version": "3.9.12"
  },
  "vscode": {
   "interpreter": {
    "hash": "ad2bdc8ecc057115af97d19610ffacc2b4e99fae6737bb82f5d7fb13d2f2c186"
   }
  }
 },
 "nbformat": 4,
 "nbformat_minor": 5
}
