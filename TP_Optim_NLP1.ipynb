{
 "cells": [
  {
   "cell_type": "markdown",
   "id": "d200ecfd",
   "metadata": {},
   "source": [
    "# 1. Unconstrained optimization"
   ]
  },
  {
   "cell_type": "code",
   "execution_count": 3,
   "id": "81a723a2",
   "metadata": {},
   "outputs": [],
   "source": [
    "import pandas as pd\n",
    "import numpy as np\n",
    "import matplotlib.pyplot as plt"
   ]
  },
  {
   "cell_type": "code",
   "execution_count": 4,
   "id": "3c05dae2",
   "metadata": {},
   "outputs": [],
   "source": [
    "def oracle1(x, mode):\n",
    "    if mode==1:\n",
    "        return x[0]**2 + x[1]**2 -2*x[0]*x[1]\n",
    "    if mode==2:\n",
    "        return x[0]**2 + x[1]**2 -2*x[0]*x[1], np.array([2*x[0] - 2*x[1] , 2*x[1] - 2*x[0]])\n",
    "    if mode==3:\n",
    "        return np.array([2*x[0] - 2*x[1] , 2*x[1] - 2*x[0]])\n",
    "    \n",
    "    "
   ]
  },
  {
   "cell_type": "code",
   "execution_count": 5,
   "id": "6576fe3a",
   "metadata": {},
   "outputs": [
    {
     "data": {
      "text/plain": [
       "(1, array([ 2, -2]))"
      ]
     },
     "execution_count": 5,
     "metadata": {},
     "output_type": "execute_result"
    }
   ],
   "source": [
    "x=[2,1]\n",
    "oracle1(x,2)\n"
   ]
  },
  {
   "cell_type": "code",
   "execution_count": 6,
   "id": "4284c9f3",
   "metadata": {},
   "outputs": [],
   "source": [
    "def oracle2(x, mode):\n",
    "    if mode==1:\n",
    "        return 10*(x[1]-x[0]**2)**2 + (1-x[0])**2\n",
    "    if mode==2:\n",
    "        return 10*(x[1]-x[0]**2)**2 + (1-x[0])**2, np.array([-40*x[0]*(x[1]-x[0]**2) -2 * (1-x[0]), 20*(x[1] - x[0]**2)])\n",
    "    if mode==3:\n",
    "        return np.array([-40*x[0]*(x[1]-x[0]**2) -2*(1-x[0]), 20*(x[1] - x[0]**2)])"
   ]
  },
  {
   "cell_type": "code",
   "execution_count": 7,
   "id": "1c2f1e76",
   "metadata": {},
   "outputs": [
    {
     "data": {
      "text/plain": [
       "(91, array([242, -60]))"
      ]
     },
     "execution_count": 7,
     "metadata": {},
     "output_type": "execute_result"
    }
   ],
   "source": [
    "x=[2,1]\n",
    "oracle2(x,2)"
   ]
  },
  {
   "cell_type": "code",
   "execution_count": 8,
   "id": "2ee22bad",
   "metadata": {},
   "outputs": [],
   "source": [
    "def oracle3(x, mode):\n",
    "    if mode==1:\n",
    "        return 1/2 * np.dot(x,x)\n",
    "    if mode==2:\n",
    "        return 1/2 * np.dot(x,x) , np.array(x)\n",
    "    if mode==3:\n",
    "        return np.array(x)"
   ]
  },
  {
   "cell_type": "code",
   "execution_count": 9,
   "id": "42ea372b",
   "metadata": {
    "scrolled": true
   },
   "outputs": [
    {
     "data": {
      "text/plain": [
       "(2.5, array([2, 1]))"
      ]
     },
     "execution_count": 9,
     "metadata": {},
     "output_type": "execute_result"
    }
   ],
   "source": [
    "x=np.array([2,1])\n",
    "oracle3(x,2)\n"
   ]
  },
  {
   "cell_type": "code",
   "execution_count": 293,
   "id": "484a16fa",
   "metadata": {},
   "outputs": [],
   "source": [
    "def norme(x):\n",
    "    return np.sqrt(np.dot(x,x))"
   ]
  },
  {
   "cell_type": "code",
   "execution_count": 36,
   "id": "f3e4e18e",
   "metadata": {},
   "outputs": [],
   "source": [
    "def methode_gradient(oracle, x0, k=0, MaxIt=1000, t=0.5, tol=10e-6):\n",
    "    x=x0\n",
    "    list=[x0]\n",
    "    f=oracle(x, 2)\n",
    "    while (norme(f[1]) > tol) and (k < MaxIt):\n",
    "        x= x - t*f[1]\n",
    "        list.append(x)\n",
    "        k= k + 1\n",
    "        f=oracle(x, 2)\n",
    "    print(x, f, k)\n",
    "    x = [list[i][0] for i in range(len(list))]\n",
    "    y = [list[i][1] for i in range(len(list))]   \n",
    "    plt.plot(x,y,'ob')\n",
    "    plt.show()"
   ]
  },
  {
   "cell_type": "code",
   "execution_count": 37,
   "id": "1f9406a7",
   "metadata": {},
   "outputs": [
    {
     "name": "stdout",
     "output_type": "stream",
     "text": [
      "[0.00000000e+00 4.76837158e-07 9.53674316e-07 1.43051147e-06\n",
      " 1.90734863e-06 2.38418579e-06 2.86102295e-06 3.33786011e-06\n",
      " 3.81469727e-06 4.29153442e-06] (3.240074875066057e-11, array([0.00000000e+00, 4.76837158e-07, 9.53674316e-07, 1.43051147e-06,\n",
      "       1.90734863e-06, 2.38418579e-06, 2.86102295e-06, 3.33786011e-06,\n",
      "       3.81469727e-06, 4.29153442e-06])) 21\n"
     ]
    },
    {
     "data": {
      "image/png": "[encoded data removed]",
      "text/plain": [
       "<Figure size 432x288 with 1 Axes>"
      ]
     },
     "metadata": {
      "needs_background": "light"
     },
     "output_type": "display_data"
    }
   ],
   "source": [
    "x0=[i for i in range(10)]\n",
    "#x0=[2,3]\n",
    "methode_gradient(oracle3, x0)"
   ]
  },
  {
   "cell_type": "code",
   "execution_count": 260,
   "id": "f94e7d0d",
   "metadata": {},
   "outputs": [
    {
     "name": "stdout",
     "output_type": "stream",
     "text": [
      "[5.99998578 6.00001422] (8.082849944912596e-10, array([-5.68605761e-05,  5.68605761e-05])) 25\n"
     ]
    },
    {
     "data": {
      "image/png": "[encoded data removed]",
      "text/plain": [
       "<Figure size 432x288 with 1 Axes>"
      ]
     },
     "metadata": {
      "needs_background": "light"
     },
     "output_type": "display_data"
    }
   ],
   "source": [
    "x0=np.array([11,1])\n",
    "oracle = oracle1\n",
    "list = methode_gradient(oracle, x0, MaxIt=25, t=0.4)"
   ]
  },
  {
   "cell_type": "code",
   "execution_count": 38,
   "id": "b7cac9db",
   "metadata": {},
   "outputs": [
    {
     "name": "stdout",
     "output_type": "stream",
     "text": [
      "[12.49990758 12.50009242] (3.416300842218334e-08, array([-0.00036966,  0.00036966])) 250\n"
     ]
    },
    {
     "data": {
      "image/png": "[encoded data removed]",
      "text/plain": [
       "<Figure size 432x288 with 1 Axes>"
      ]
     },
     "metadata": {
      "needs_background": "light"
     },
     "output_type": "display_data"
    }
   ],
   "source": [
    "x0=np.array([10,15])\n",
    "oracle = oracle1\n",
    "methode_gradient(oracle, x0, MaxIt=250, t=0.01)\n"
   ]
  },
  {
   "cell_type": "code",
   "execution_count": 15,
   "id": "4769b58e",
   "metadata": {},
   "outputs": [
    {
     "name": "stderr",
     "output_type": "stream",
     "text": [
      "<ipython-input-10-48920662aeb3>:2: RuntimeWarning: overflow encountered in double_scalars\n",
      "  return (sum(x[i]**2 for i in range(len(x))))**(1/2)\n",
      "<ipython-input-6-e65dea4d4a78>:5: RuntimeWarning: overflow encountered in double_scalars\n",
      "  return 10*(x[1]-x[0]**2)**2 + (1-x[0])**2, np.array([-40*x[0]*(x[1]-x[0]**2) -2 * (1-x[0]), 20*(x[1] - x[0]**2)])\n",
      "<ipython-input-6-e65dea4d4a78>:5: RuntimeWarning: invalid value encountered in double_scalars\n",
      "  return 10*(x[1]-x[0]**2)**2 + (1-x[0])**2, np.array([-40*x[0]*(x[1]-x[0]**2) -2 * (1-x[0]), 20*(x[1] - x[0]**2)])\n"
     ]
    },
    {
     "name": "stdout",
     "output_type": "stream",
     "text": [
      "[inf inf] (nan, array([nan, nan])) 6\n"
     ]
    },
    {
     "data": {
      "image/png": "[encoded data removed]",
      "text/plain": [
       "<Figure size 432x288 with 1 Axes>"
      ]
     },
     "metadata": {
      "needs_background": "light"
     },
     "output_type": "display_data"
    }
   ],
   "source": [
    "x0=np.array([2,3])\n",
    "oracle = oracle2\n",
    "methode_gradient(oracle, x0)"
   ]
  },
  {
   "cell_type": "code",
   "execution_count": 16,
   "id": "bafd734d",
   "metadata": {},
   "outputs": [
    {
     "name": "stdout",
     "output_type": "stream",
     "text": [
      "[3.81469727e-06 5.72204590e-06] (2.3646862246096134e-11, array([3.81469727e-06, 5.72204590e-06])) 19\n"
     ]
    },
    {
     "data": {
      "image/png": "[encoded data removed]",
      "text/plain": [
       "<Figure size 432x288 with 1 Axes>"
      ]
     },
     "metadata": {
      "needs_background": "light"
     },
     "output_type": "display_data"
    }
   ],
   "source": [
    "x0=np.array([2,3])\n",
    "oracle = oracle3\n",
    "methode_gradient(oracle, x0)"
   ]
  },
  {
   "cell_type": "code",
   "execution_count": 17,
   "id": "e13df1bc",
   "metadata": {},
   "outputs": [
    {
     "name": "stdout",
     "output_type": "stream",
     "text": [
      "[0.00000000e+00 4.76837158e-07 9.53674316e-07 1.43051147e-06\n",
      " 1.90734863e-06 2.38418579e-06 2.86102295e-06 3.33786011e-06\n",
      " 3.81469727e-06 4.29153442e-06] (3.240074875066057e-11, array([0.00000000e+00, 4.76837158e-07, 9.53674316e-07, 1.43051147e-06,\n",
      "       1.90734863e-06, 2.38418579e-06, 2.86102295e-06, 3.33786011e-06,\n",
      "       3.81469727e-06, 4.29153442e-06])) 21\n"
     ]
    },
    {
     "data": {
      "image/png": "[encoded data removed]",
      "text/plain": [
       "<Figure size 432x288 with 1 Axes>"
      ]
     },
     "metadata": {
      "needs_background": "light"
     },
     "output_type": "display_data"
    }
   ],
   "source": [
    "x0=[i for i in range(10)]\n",
    "oracle = oracle3\n",
    "methode_gradient(oracle, x0)"
   ]
  },
  {
   "cell_type": "code",
   "execution_count": 39,
   "id": "49589a97",
   "metadata": {},
   "outputs": [
    {
     "name": "stdout",
     "output_type": "stream",
     "text": [
      "[2.49999827 2.50000173] (1.1997514093309292e-11, array([-6.92739213e-06,  6.92739213e-06])) 308\n"
     ]
    },
    {
     "data": {
      "image/png": "[encoded data removed]",
      "text/plain": [
       "<Figure size 432x288 with 1 Axes>"
      ]
     },
     "metadata": {
      "needs_background": "light"
     },
     "output_type": "display_data"
    }
   ],
   "source": [
    "x0=[2,3]\n",
    "methode_gradient(oracle1, x0, MaxIt=1000 , t=0.01)"
   ]
  },
  {
   "cell_type": "code",
   "execution_count": 40,
   "id": "3708f1af",
   "metadata": {},
   "outputs": [
    {
     "name": "stderr",
     "output_type": "stream",
     "text": [
      "<ipython-input-10-48920662aeb3>:2: RuntimeWarning: overflow encountered in double_scalars\n",
      "  return (sum(x[i]**2 for i in range(len(x))))**(1/2)\n",
      "<ipython-input-6-e65dea4d4a78>:5: RuntimeWarning: overflow encountered in double_scalars\n",
      "  return 10*(x[1]-x[0]**2)**2 + (1-x[0])**2, np.array([-40*x[0]*(x[1]-x[0]**2) -2 * (1-x[0]), 20*(x[1] - x[0]**2)])\n",
      "<ipython-input-6-e65dea4d4a78>:5: RuntimeWarning: invalid value encountered in double_scalars\n",
      "  return 10*(x[1]-x[0]**2)**2 + (1-x[0])**2, np.array([-40*x[0]*(x[1]-x[0]**2) -2 * (1-x[0]), 20*(x[1] - x[0]**2)])\n"
     ]
    },
    {
     "name": "stdout",
     "output_type": "stream",
     "text": [
      "[inf inf] (nan, array([nan, nan])) 6\n"
     ]
    },
    {
     "data": {
      "image/png": "[encoded data removed]",
      "text/plain": [
       "<Figure size 432x288 with 1 Axes>"
      ]
     },
     "metadata": {
      "needs_background": "light"
     },
     "output_type": "display_data"
    }
   ],
   "source": [
    "x0=[2,3]\n",
    "methode_gradient(oracle2, x0, MaxIt = 10 , t = 0.4)"
   ]
  },
  {
   "cell_type": "code",
   "execution_count": 41,
   "id": "16602bf7",
   "metadata": {},
   "outputs": [
    {
     "name": "stdout",
     "output_type": "stream",
     "text": [
      "[8.63424948e-05 1.29513742e-04] (1.2114417919449722e-08, array([8.63424948e-05, 1.29513742e-04])) 1000\n"
     ]
    },
    {
     "data": {
      "image/png": "[encoded data removed]",
      "text/plain": [
       "<Figure size 432x288 with 1 Axes>"
      ]
     },
     "metadata": {
      "needs_background": "light"
     },
     "output_type": "display_data"
    }
   ],
   "source": [
    "x0=np.array([2,3])\n",
    "methode_gradient(oracle3, x0, MaxIt = 1000 , t=0.01)"
   ]
  },
  {
   "cell_type": "code",
   "execution_count": 21,
   "id": "b2198212",
   "metadata": {},
   "outputs": [
    {
     "name": "stdout",
     "output_type": "stream",
     "text": [
      "[0.00000000e+00 4.31712474e-05 8.63424948e-05 1.29513742e-04\n",
      " 1.72684990e-04 2.15856237e-04 2.59027484e-04 3.02198732e-04\n",
      " 3.45369979e-04 3.88541227e-04] (2.6558531592639854e-07, array([0.00000000e+00, 4.31712474e-05, 8.63424948e-05, 1.29513742e-04,\n",
      "       1.72684990e-04, 2.15856237e-04, 2.59027484e-04, 3.02198732e-04,\n",
      "       3.45369979e-04, 3.88541227e-04])) 1000\n"
     ]
    },
    {
     "data": {
      "image/png": "[encoded data removed]",
      "text/plain": [
       "<Figure size 432x288 with 1 Axes>"
      ]
     },
     "metadata": {
      "needs_background": "light"
     },
     "output_type": "display_data"
    }
   ],
   "source": [
    "x0=[i for i in range(10)]\n",
    "methode_gradient(oracle3, x0, MaxIt=1000 , t=0.01)"
   ]
  },
  {
   "cell_type": "code",
   "execution_count": 44,
   "id": "a5824235",
   "metadata": {},
   "outputs": [
    {
     "data": {
      "image/png": "[encoded data removed]",
      "text/plain": [
       "<Figure size 432x288 with 1 Axes>"
      ]
     },
     "metadata": {
      "needs_background": "light"
     },
     "output_type": "display_data"
    }
   ],
   "source": [
    "import matplotlib.pyplot as plt\n",
    "from mpl_toolkits.mplot3d import axes3d  # Fonction pour la 3D\n",
    "from matplotlib import cm\n",
    "from matplotlib.ticker import LinearLocator, FormatStrFormatter\n",
    "import numpy as np\n",
    "\n",
    "# Tableau pour les 3 axes\n",
    "inf = -10\n",
    "sup = 10\n",
    "N = 50\n",
    "\n",
    "A = np.zeros((N,N))\n",
    "Intervalle = np.linspace(inf,sup,N)\n",
    "\n",
    "for i,x1 in enumerate(Intervalle):\n",
    "    for j, x2 in enumerate(Intervalle):\n",
    "        x0=np.array([x1,x2])\n",
    "        A[i,j] = oracle1(x0,1)\n",
    "\n",
    "\n",
    "# Tracé du résultat en 3D\n",
    "fig = plt.figure()\n",
    "ax = fig.gca(projection='3d')  # Affichage en 3D\n",
    "ax.plot_surface(X=Intervalle, Y=Intervalle, Z=A, cmap=cm.coolwarm, linewidth=0)  # Tracé d'une surface\n",
    "plt.title(\"Fonction\")\n",
    "ax.set_xlabel('X')\n",
    "ax.set_ylabel('Y')\n",
    "ax.set_zlabel('Z')\n",
    "plt.tight_layout()\n",
    "plt.show()\n",
    "\n",
    "plt.show()"
   ]
  },
  {
   "cell_type": "code",
   "execution_count": 33,
   "id": "cb8a8023",
   "metadata": {},
   "outputs": [],
   "source": [
    "def methode_gradient2(oracle, x0, k=0, MaxIt=1000, t=0.5, tol=10e-6):\n",
    "    x=x0\n",
    "    list=[x0]\n",
    "    f=oracle(x, 2)\n",
    "    z=[f[0]]\n",
    "    while (norme(f[1]) > tol) and (k < MaxIt):\n",
    "        x= x - t*f[1]\n",
    "        list.append(x)\n",
    "        z.append(f[0])\n",
    "        k= k + 1\n",
    "        f=oracle(x, 2)\n",
    "    print(x, f, k)\n",
    "    x = [list[i][0] for i in range(len(list))]\n",
    "    y = [list[i][1] for i in range(len(list))]   \n",
    "    \n",
    "\n",
    "    inf = -10\n",
    "    sup = 10\n",
    "    N = 50\n",
    "\n",
    "    A = np.zeros((N,N))\n",
    "    Intervalle = np.linspace(inf,sup,N)\n",
    "\n",
    "    for i,x1 in enumerate(Intervalle):\n",
    "        for j, x2 in enumerate(Intervalle):\n",
    "            x0=np.array([x1,x2])\n",
    "            A[i,j] = oracle(x0,1)\n",
    "\n",
    "\n",
    "    # Tracé du résultat en 3D\n",
    "    fig = plt.figure()\n",
    "    ax = fig.gca(projection='3d')  # Affichage en 3D\n",
    "    ax.plot_surface(X=Intervalle, Y=Intervalle, Z=A, cmap=cm.coolwarm, linewidth=0)  # Tracé d'une surface\n",
    "    ax.scatter(x, y, z, label='Courbe', marker='d')  # Tracé des points 3D\n",
    "    plt.title(\"Fonction\")\n",
    "    ax.set_xlabel('X')\n",
    "    ax.set_ylabel('Y')\n",
    "    ax.set_zlabel('Z')\n",
    "    plt.tight_layout()\n",
    "    plt.show()"
   ]
  },
  {
   "cell_type": "code",
   "execution_count": 321,
   "id": "3f611e0a",
   "metadata": {},
   "outputs": [],
   "source": [
    "def Armijo(x, fdex, gradient, t, oracle):\n",
    "    m1=0.001\n",
    "    theta=0.8\n",
    "    p=0\n",
    "    f1 = oracle(x - t*gradient,1)\n",
    "    f2 = fdex + m1 * t * np.dot(gradient,(-1)*gradient)\n",
    "    while f1 >= f2 and p<50:\n",
    "        t = theta * t\n",
    "        p = p + 1\n",
    "    #print(t,p,f1,f2)\n",
    "    return t\n",
    "\n"
   ]
  },
  {
   "cell_type": "code",
   "execution_count": 313,
   "id": "de49e838",
   "metadata": {},
   "outputs": [],
   "source": [
    "def methode_gradient_armijo(oracle, x0, MaxIt=10, t=0.4, tol=10e-6):\n",
    "    x=x0\n",
    "    list=[x0]\n",
    "    f,g=oracle(x, 2)\n",
    "    k=0\n",
    "    while (norme(g) > tol) and (k < MaxIt):\n",
    "        t = Armijo(x, f, g, t, oracle)\n",
    "        x = x - t * g\n",
    "        list.append(x)\n",
    "        k = k + 1\n",
    "        f,g=oracle(x, 2)\n",
    "        \n",
    "    print(x, f, g, k)"
   ]
  },
  {
   "cell_type": "code",
   "execution_count": 235,
   "id": "47e998f8",
   "metadata": {},
   "outputs": [
    {
     "data": {
      "text/plain": [
       "0.3600000000000002"
      ]
     },
     "execution_count": 235,
     "metadata": {},
     "output_type": "execute_result"
    }
   ],
   "source": [
    "x=[1,0]\n",
    "f,g=oracle1(x,2)\n",
    "oracle1(x - 0.4*g,1)"
   ]
  },
  {
   "cell_type": "code",
   "execution_count": 327,
   "id": "deea9666",
   "metadata": {},
   "outputs": [
    {
     "name": "stdout",
     "output_type": "stream",
     "text": [
      "[0.49999858 0.50000142] 8.08286770848099e-12 [-5.68605761e-06  5.68605761e-06] 25\n"
     ]
    }
   ],
   "source": [
    "x0=np.array([1,0])\n",
    "methode_gradient_armijo(oracle1, x0, MaxIt=30, t=0.4)"
   ]
  },
  {
   "cell_type": "code",
   "execution_count": 333,
   "id": "312a2b35",
   "metadata": {},
   "outputs": [
    {
     "name": "stdout",
     "output_type": "stream",
     "text": [
      "[15  7] 475436 [130828  -4360] 0\n"
     ]
    },
    {
     "name": "stderr",
     "output_type": "stream",
     "text": [
      "<ipython-input-293-48349875aa2f>:2: RuntimeWarning: invalid value encountered in sqrt\n",
      "  return np.sqrt(np.dot(x,x))\n"
     ]
    }
   ],
   "source": [
    "x0=np.array([15,7])\n",
    "methode_gradient_armijo(oracle2, x0, MaxIt=1100, t=0.4)"
   ]
  },
  {
   "cell_type": "code",
   "execution_count": 257,
   "id": "43a1a68b",
   "metadata": {},
   "outputs": [
    {
     "name": "stdout",
     "output_type": "stream",
     "text": [
      "[3.41163456e-06 5.11745185e-06] 1.8913781892675437e-11 [3.41163456e-06 5.11745185e-06] 26 [array([2, 3]), array([1.2, 1.8]), array([0.72, 1.08]), array([0.432, 0.648]), array([0.2592, 0.3888]), array([0.15552, 0.23328]), array([0.093312, 0.139968]), array([0.0559872, 0.0839808]), array([0.03359232, 0.05038848]), array([0.02015539, 0.03023309])]\n"
     ]
    }
   ],
   "source": [
    "x0=np.array([2,3])\n",
    "methode_gradient_armijo(oracle3, x0, MaxIt= 100)"
   ]
  },
  {
   "cell_type": "code",
   "execution_count": 180,
   "id": "b0c27107",
   "metadata": {},
   "outputs": [],
   "source": [
    "def oracle4(x, mode):\n",
    "    if mode==1:\n",
    "        return sum(np.arange(1,len(x)+1) * x**2 +10 * x**4)\n",
    "    if mode==2:\n",
    "        return sum(np.arange(1,len(x)+1) * x**2 +10 * x**4), np.arange(1,len(x)+1)* x * 2 + 40 * x**3\n",
    "    if mode==3:\n",
    "        return np.arange(1,len(x)+1)* x * 2 + 40 * x**3"
   ]
  },
  {
   "cell_type": "code",
   "execution_count": 329,
   "id": "27a5ebc0",
   "metadata": {},
   "outputs": [
    {
     "data": {
      "text/plain": [
       "(300600, array([ 40020,  40040, -40060]))"
      ]
     },
     "execution_count": 329,
     "metadata": {},
     "output_type": "execute_result"
    }
   ],
   "source": [
    "x=np.array([10,10,-10])\n",
    "oracle4(x,2)"
   ]
  },
  {
   "cell_type": "code",
   "execution_count": 336,
   "id": "2bbe6e13",
   "metadata": {},
   "outputs": [
    {
     "name": "stdout",
     "output_type": "stream",
     "text": [
      "[ 9.99999995  9.99999995 -9.99999995] 300599.9935923182 [ 40019.99936009  40039.99935966 -40059.99935923] 3000\n"
     ]
    }
   ],
   "source": [
    "methode_gradient_armijo(oracle4, x, MaxIt=3000, t=0.5)"
   ]
  },
  {
   "cell_type": "code",
   "execution_count": null,
   "id": "41ec24dc",
   "metadata": {},
   "outputs": [],
   "source": []
  }
 ],
 "metadata": {
  "kernelspec": {
   "display_name": "Python 3.8.5 ('base')",
   "language": "python",
   "name": "python3"
  },
  "language_info": {
   "codemirror_mode": {
    "name": "ipython",
    "version": 3
   },
   "file_extension": ".py",
   "mimetype": "text/x-python",
   "name": "python",
   "nbconvert_exporter": "python",
   "pygments_lexer": "ipython3",
   "version": "3.8.5"
  },
  "vscode": {
   "interpreter": {
    "hash": "77238a471535228e8cd55a3ca9e771a69c6c0bc66c44a56c972f9554a4042742"
   }
  }
 },
 "nbformat": 4,
 "nbformat_minor": 5
}
