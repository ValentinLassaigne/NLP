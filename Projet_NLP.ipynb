{
 "cells": [
  {
   "cell_type": "markdown",
   "metadata": {},
   "source": [
    "# 1. Unconstrained optimization"
   ]
  },
  {
   "cell_type": "code",
   "execution_count": 1,
   "metadata": {},
   "outputs": [],
   "source": [
    "import pandas as pd\n",
    "import numpy as np\n",
    "import matplotlib.pyplot as plt"
   ]
  },
  {
   "cell_type": "markdown",
   "metadata": {},
   "source": [
    "### Task 1. Write three oracles for evaluating the following function"
   ]
  },
  {
   "cell_type": "markdown",
   "metadata": {},
   "source": [
    "$$\n",
    "\\left.\n",
    "    \\begin{array}{lll}\n",
    "    1. & f_{1}(x_{1},x_{2})=x_{1}^2 + x_{2}^2 -2x_{1}x_{2} & \\nabla f_{1}(x_{1},x_{2})=\\dbinom{2x_{1}-2x_{2}}{2x_{2}-2x_{1}} \\\\\n",
    "    2. & f_{2}(x_{1},x_{2})=10(x_{2} - x_{1}^2)^2 + (1-x_{1})^2 & \\nabla f_{2}(x_{1},x_{2})=\\dbinom{-40x_{1}*(x_{2}-x_{1}^2) - 2(1-x_{1})}{20(x_{2}-x_{1}^2)} \\\\\n",
    "    3. & f_{3}(x)=\\frac{1}{2} \\left\\|x\\right\\|^2 & \\nabla f_{3}(x)=\\left(\n",
    "                                                                        \\begin{array}{c} \n",
    "                                                                        x_{1}  \\\\\n",
    "                                                                        \\cdots \\\\\n",
    "                                                                        x_{i}  \\\\\n",
    "                                                                        \\cdots \\\\\n",
    "                                                                        x_{n} \\\\\n",
    "                                                                        \\end{array}\n",
    "                                                                    \\right) \\\\\n",
    "    \\end{array}\n",
    "\\right.\n",
    "$$"
   ]
  },
  {
   "cell_type": "code",
   "execution_count": 2,
   "metadata": {},
   "outputs": [],
   "source": [
    "def oracle1(x, mode):\n",
    "    if mode==1:\n",
    "        return x[0]**2 + x[1]**2 -2*x[0]*x[1]\n",
    "    if mode==2:\n",
    "        return x[0]**2 + x[1]**2 -2*x[0]*x[1], np.array([2*x[0] - 2*x[1] , 2*x[1] - 2*x[0]])\n",
    "    if mode==3:\n",
    "        return np.array([2*x[0] - 2*x[1] , 2*x[1] - 2*x[0]])\n",
    "\n",
    "def oracle2(x, mode):\n",
    "    if mode==1:\n",
    "        return 10*(x[1]-x[0]**2)**2 + (1-x[0])**2\n",
    "    if mode==2:\n",
    "        return 10*(x[1]-x[0]**2)**2 + (1-x[0])**2, np.array([-40*x[0]*(x[1]-x[0]**2) -2 * (1-x[0]), 20*(x[1] - x[0]**2)])\n",
    "    if mode==3:\n",
    "        return np.array([-40*x[0]*(x[1]-x[0]**2) -2*(1-x[0]), 20*(x[1] - x[0]**2)])\n",
    "\n",
    "def oracle3(x, mode):\n",
    "    if mode==1:\n",
    "        return 1/2 * np.dot(x,x)\n",
    "    if mode==2:\n",
    "        return 1/2 * np.dot(x,x) , np.array(x)\n",
    "    if mode==3:\n",
    "        return np.array(x)"
   ]
  },
  {
   "cell_type": "markdown",
   "metadata": {},
   "source": [
    "### Task 2. Implement the Gradient Method"
   ]
  },
  {
   "cell_type": "code",
   "execution_count": 3,
   "metadata": {},
   "outputs": [],
   "source": [
    "def methode_gradient(oracle, x0, MaxIt=1000, t=0.5, tol=10e-6):\n",
    "    x=x0\n",
    "    k=0\n",
    "    listx=[x0]\n",
    "    listg=[]\n",
    "    listf=[]\n",
    "    while (np.linalg.norm(oracle(x,3)) > tol) and (k < MaxIt):\n",
    "        listf.append(oracle(x,1))\n",
    "        listg.append(oracle(x,3))\n",
    "        x = x - t * oracle(x,3)\n",
    "        listx.append(x)\n",
    "        k = k + 1\n",
    "    #print(f\"coordo : {listx}\")\n",
    "    #print(f\"valeur : {listf}\")\n",
    "    #print(f\"gradients : {listg}\")\n",
    "    if k==MaxIt:\n",
    "        print(f\"l'algorithme n'a pas convergé en moins de {MaxIt} itérations \")\n",
    "        print(f\"Dernier x obtenu : {x}\")\n",
    "        print(f\"Dernier gradient obtenu : {oracle(x,3)} \")\n",
    "        print(f\"Dernière valeur de la fonction obtenu: {oracle(x,1)} \")\n",
    "    else:\n",
    "        print(f\"l'algorithme a convergé en {k} itérations \")\n",
    "        print(f\"Coordonnées de la solution : {x}\")\n",
    "        print(f\"Dernier gradient obtenu : {oracle(x,3)} \")\n",
    "        print(f\"Valeur de la solution : {oracle(x,1)} \")\n",
    "    xi = [listx[i][0] for i in range(len(listx))]\n",
    "    yi = [listx[i][1] for i in range(len(listx))]   \n",
    "    plt.plot(xi,yi,'ob')\n",
    "    plt.show()"
   ]
  },
  {
   "cell_type": "markdown",
   "metadata": {},
   "source": [
    "#### 1. Functions f<sub>1</sub>, f<sub>2</sub> and f<sub>3</sub>, with dimension of x equal to n=2"
   ]
  },
  {
   "cell_type": "code",
   "execution_count": 4,
   "metadata": {},
   "outputs": [
    {
     "name": "stdout",
     "output_type": "stream",
     "text": [
      "l'algorithme n'a pas convergé en moins de 1000 itérations \n",
      "Dernier x obtenu : [ 9. 13.]\n",
      "Dernier gradient obtenu : [-8.  8.] \n",
      "Dernière valeur de la fonction obtenu: 16.0 \n"
     ]
    },
    {
     "data": {
      "image/png": "[encoded data removed]",
      "text/plain": [
       "<Figure size 432x288 with 1 Axes>"
      ]
     },
     "metadata": {
      "needs_background": "light"
     },
     "output_type": "display_data"
    }
   ],
   "source": [
    "x0=np.array([9,13])\n",
    "methode_gradient(oracle1, x0, MaxIt=1000, t=0.5)"
   ]
  },
  {
   "cell_type": "code",
   "execution_count": 6,
   "metadata": {},
   "outputs": [
    {
     "name": "stdout",
     "output_type": "stream",
     "text": [
      "l'algorithme a convergé en 6 itérations \n",
      "Coordonnées de la solution : [nan inf]\n",
      "Dernier gradient obtenu : [nan nan] \n",
      "Valeur de la solution : nan \n"
     ]
    },
    {
     "name": "stderr",
     "output_type": "stream",
     "text": [
      "C:\\Users\\valentin.lassaigne\\AppData\\Local\\Temp\\ipykernel_11964\\3175712587.py:15: RuntimeWarning: overflow encountered in double_scalars\n",
      "  return np.array([-40*x[0]*(x[1]-x[0]**2) -2*(1-x[0]), 20*(x[1] - x[0]**2)])\n",
      "C:\\Users\\valentin.lassaigne\\AppData\\Local\\Temp\\ipykernel_11964\\3175712587.py:11: RuntimeWarning: overflow encountered in double_scalars\n",
      "  return 10*(x[1]-x[0]**2)**2 + (1-x[0])**2\n",
      "C:\\Users\\valentin.lassaigne\\AppData\\Local\\Temp\\ipykernel_11964\\1108662127.py:10: RuntimeWarning: invalid value encountered in subtract\n",
      "  x = x - t * oracle(x,3)\n"
     ]
    },
    {
     "data": {
      "image/png": "[encoded data removed]",
      "text/plain": [
       "<Figure size 432x288 with 1 Axes>"
      ]
     },
     "metadata": {
      "needs_background": "light"
     },
     "output_type": "display_data"
    }
   ],
   "source": [
    "x0=np.array([9,13])\n",
    "methode_gradient(oracle2, x0, MaxIt=1000, t=0.5)"
   ]
  },
  {
   "cell_type": "code",
   "execution_count": 7,
   "metadata": {},
   "outputs": [
    {
     "name": "stdout",
     "output_type": "stream",
     "text": [
      "l'algorithme a convergé en 21 itérations \n",
      "Coordonnées de la solution : [4.29153442e-06 6.19888306e-06]\n",
      "Dernier gradient obtenu : [4.29153442e-06 6.19888306e-06] \n",
      "Valeur de la solution : 2.8421709430404007e-11 \n"
     ]
    },
    {
     "data": {
      "image/png": "[encoded data removed]",
      "text/plain": [
       "<Figure size 432x288 with 1 Axes>"
      ]
     },
     "metadata": {
      "needs_background": "light"
     },
     "output_type": "display_data"
    }
   ],
   "source": [
    "x0=np.array([9,13])\n",
    "methode_gradient(oracle3, x0)"
   ]
  },
  {
   "cell_type": "markdown",
   "metadata": {},
   "source": [
    "#### 2. Function f<sub>3</sub> with n=10 and n=10000"
   ]
  },
  {
   "cell_type": "code",
   "execution_count": 8,
   "metadata": {},
   "outputs": [
    {
     "name": "stdout",
     "output_type": "stream",
     "text": [
      "l'algorithme a convergé en 21 itérations \n",
      "Coordonnées de la solution : [0.00000000e+00 4.76837158e-07 9.53674316e-07 1.43051147e-06\n",
      " 1.90734863e-06 2.38418579e-06 2.86102295e-06 3.33786011e-06\n",
      " 3.81469727e-06 4.29153442e-06]\n",
      "Dernier gradient obtenu : [0.00000000e+00 4.76837158e-07 9.53674316e-07 1.43051147e-06\n",
      " 1.90734863e-06 2.38418579e-06 2.86102295e-06 3.33786011e-06\n",
      " 3.81469727e-06 4.29153442e-06] \n",
      "Valeur de la solution : 3.240074875066057e-11 \n"
     ]
    },
    {
     "data": {
      "image/png": "[encoded data removed]",
      "text/plain": [
       "<Figure size 432x288 with 1 Axes>"
      ]
     },
     "metadata": {
      "needs_background": "light"
     },
     "output_type": "display_data"
    }
   ],
   "source": [
    "x0=[i for i in range(10)]\n",
    "methode_gradient(oracle3, x0)"
   ]
  },
  {
   "cell_type": "code",
   "execution_count": 9,
   "metadata": {},
   "outputs": [
    {
     "name": "stdout",
     "output_type": "stream",
     "text": [
      "l'algorithme a convergé en 36 itérations \n",
      "Coordonnées de la solution : [0.00000000e+00 1.45519152e-11 2.91038305e-11 ... 1.45475497e-07\n",
      " 1.45490048e-07 1.45504600e-07]\n",
      "Dernier gradient obtenu : [0.00000000e+00 1.45519152e-11 2.91038305e-11 ... 1.45475497e-07\n",
      " 1.45490048e-07 1.45504600e-07] \n",
      "Valeur de la solution : 3.528774568947404e-11 \n"
     ]
    },
    {
     "data": {
      "image/png": "[encoded data removed]",
      "text/plain": [
       "<Figure size 432x288 with 1 Axes>"
      ]
     },
     "metadata": {
      "needs_background": "light"
     },
     "output_type": "display_data"
    }
   ],
   "source": [
    "x0=[i for i in range(10000)]\n",
    "methode_gradient(oracle3, x0)"
   ]
  },
  {
   "cell_type": "markdown",
   "metadata": {},
   "source": [
    "#### 3. Re-run your code with t=0.01. Compare the results."
   ]
  },
  {
   "cell_type": "code",
   "execution_count": 10,
   "metadata": {},
   "outputs": [
    {
     "name": "stdout",
     "output_type": "stream",
     "text": [
      "l'algorithme a convergé en 342 itérations \n",
      "Coordonnées de la solution : [10.99999827 11.00000173]\n",
      "Dernier gradient obtenu : [-6.91594748e-06  6.91594748e-06] \n",
      "Valeur de la solution : 1.1937117960769683e-11 \n"
     ]
    },
    {
     "data": {
      "image/png": "[encoded data removed]",
      "text/plain": [
       "<Figure size 432x288 with 1 Axes>"
      ]
     },
     "metadata": {
      "needs_background": "light"
     },
     "output_type": "display_data"
    }
   ],
   "source": [
    "x0=np.array([9,13])\n",
    "methode_gradient(oracle1, x0, MaxIt=1000, t=0.01)"
   ]
  },
  {
   "cell_type": "code",
   "execution_count": 11,
   "metadata": {},
   "outputs": [
    {
     "name": "stdout",
     "output_type": "stream",
     "text": [
      "l'algorithme a convergé en 6 itérations \n",
      "Coordonnées de la solution : [inf inf]\n",
      "Dernier gradient obtenu : [nan nan] \n",
      "Valeur de la solution : nan \n"
     ]
    },
    {
     "name": "stderr",
     "output_type": "stream",
     "text": [
      "C:\\Users\\valentin.lassaigne\\AppData\\Local\\Temp\\ipykernel_11964\\3175712587.py:15: RuntimeWarning: overflow encountered in double_scalars\n",
      "  return np.array([-40*x[0]*(x[1]-x[0]**2) -2*(1-x[0]), 20*(x[1] - x[0]**2)])\n",
      "C:\\Users\\valentin.lassaigne\\AppData\\Local\\Temp\\ipykernel_11964\\3175712587.py:11: RuntimeWarning: overflow encountered in double_scalars\n",
      "  return 10*(x[1]-x[0]**2)**2 + (1-x[0])**2\n",
      "C:\\Users\\valentin.lassaigne\\AppData\\Local\\Temp\\ipykernel_11964\\3175712587.py:15: RuntimeWarning: invalid value encountered in double_scalars\n",
      "  return np.array([-40*x[0]*(x[1]-x[0]**2) -2*(1-x[0]), 20*(x[1] - x[0]**2)])\n",
      "C:\\Users\\valentin.lassaigne\\AppData\\Local\\Temp\\ipykernel_11964\\3175712587.py:11: RuntimeWarning: invalid value encountered in double_scalars\n",
      "  return 10*(x[1]-x[0]**2)**2 + (1-x[0])**2\n"
     ]
    },
    {
     "data": {
      "image/png": "[encoded data removed]",
      "text/plain": [
       "<Figure size 432x288 with 1 Axes>"
      ]
     },
     "metadata": {
      "needs_background": "light"
     },
     "output_type": "display_data"
    }
   ],
   "source": [
    "x0=np.array([9,13])\n",
    "methode_gradient(oracle2, x0, MaxIt=1000, t=0.01)"
   ]
  },
  {
   "cell_type": "code",
   "execution_count": 12,
   "metadata": {},
   "outputs": [
    {
     "name": "stdout",
     "output_type": "stream",
     "text": [
      "l'algorithme a convergé en 1421 itérations \n",
      "Coordonnées de la solution : [5.64747130e-06 8.15745854e-06]\n",
      "Dernier gradient obtenu : [5.64747130e-06 8.15745854e-06] \n",
      "Valeur de la solution : 4.921903099653978e-11 \n"
     ]
    },
    {
     "data": {
      "image/png": "[encoded data removed]",
      "text/plain": [
       "<Figure size 432x288 with 1 Axes>"
      ]
     },
     "metadata": {
      "needs_background": "light"
     },
     "output_type": "display_data"
    }
   ],
   "source": [
    "x0=np.array([9,13])\n",
    "methode_gradient(oracle3, x0, MaxIt=3000, t=0.01)"
   ]
  },
  {
   "cell_type": "code",
   "execution_count": 13,
   "metadata": {},
   "outputs": [
    {
     "name": "stdout",
     "output_type": "stream",
     "text": [
      "l'algorithme a convergé en 1427 itérations \n",
      "Coordonnées de la solution : [0.00000000e+00 5.90775791e-07 1.18155158e-06 1.77232737e-06\n",
      " 2.36310317e-06 2.95387896e-06 3.54465475e-06 4.13543054e-06\n",
      " 4.72620633e-06 5.31698212e-06]\n",
      "Dernier gradient obtenu : [0.00000000e+00 5.90775791e-07 1.18155158e-06 1.77232737e-06\n",
      " 2.36310317e-06 2.95387896e-06 3.54465475e-06 4.13543054e-06\n",
      " 4.72620633e-06 5.31698212e-06] \n",
      "Valeur de la solution : 4.9734785102480436e-11 \n"
     ]
    },
    {
     "data": {
      "image/png": "[encoded data removed]",
      "text/plain": [
       "<Figure size 432x288 with 1 Axes>"
      ]
     },
     "metadata": {
      "needs_background": "light"
     },
     "output_type": "display_data"
    }
   ],
   "source": [
    "x0=[i for i in range(10)]\n",
    "methode_gradient(oracle3, x0,MaxIt=3000, t=0.01)"
   ]
  },
  {
   "cell_type": "code",
   "execution_count": 14,
   "metadata": {},
   "outputs": [
    {
     "name": "stdout",
     "output_type": "stream",
     "text": [
      "l'algorithme a convergé en 2466 itérations \n",
      "Coordonnées de la solution : [0.00000000e+00 1.72341504e-11 3.44683007e-11 ... 1.72289801e-07\n",
      " 1.72307035e-07 1.72324269e-07]\n",
      "Dernier gradient obtenu : [0.00000000e+00 1.72341504e-11 3.44683007e-11 ... 1.72289801e-07\n",
      " 1.72307035e-07 1.72324269e-07] \n",
      "Valeur de la solution : 4.949523126779811e-11 \n"
     ]
    },
    {
     "data": {
      "image/png": "[encoded data removed]",
      "text/plain": [
       "<Figure size 432x288 with 1 Axes>"
      ]
     },
     "metadata": {
      "needs_background": "light"
     },
     "output_type": "display_data"
    }
   ],
   "source": [
    "x0=[i for i in range(10000)]\n",
    "methode_gradient(oracle3, x0,MaxIt=3000, t=0.01)"
   ]
  },
  {
   "cell_type": "markdown",
   "metadata": {},
   "source": [
    "#### Task 3. Implement the Armijo's line search"
   ]
  },
  {
   "cell_type": "code",
   "execution_count": 15,
   "metadata": {},
   "outputs": [],
   "source": [
    "def Armijo(x, fdex, gradient, t, oracle, m1, theta):\n",
    "    p=0\n",
    "    while oracle(x - t*gradient,1) >= fdex + m1 * t * np.dot(gradient,-gradient) and p<50:\n",
    "        t = theta * t\n",
    "        p = p + 1\n",
    "    return t"
   ]
  },
  {
   "cell_type": "markdown",
   "metadata": {},
   "source": [
    "#### Task 4. Equip the Gradient Method with the Armijo's line search"
   ]
  },
  {
   "cell_type": "code",
   "execution_count": 16,
   "metadata": {},
   "outputs": [],
   "source": [
    "def methode_gradient_Armijo(oracle, x0, MaxIt=1000, t=0.01, tol=10e-6, m1=0.001, theta=0.2):\n",
    "    x=x0\n",
    "    k=0\n",
    "    listx=[x0]\n",
    "    listg=[]\n",
    "    listf=[]\n",
    "    while (np.linalg.norm(oracle(x,3)) > tol) and (k < MaxIt):\n",
    "        t = Armijo(x, oracle(x,1), oracle(x,3), t, oracle, m1, theta)\n",
    "        listf.append(oracle(x,1))\n",
    "        listg.append(oracle(x,3))\n",
    "        x = x - t * oracle(x,3)\n",
    "        listx.append(x)\n",
    "        k = k + 1\n",
    "        \n",
    "    #print(f\"coordo : {listx}\")\n",
    "    #print(f\"valeur : {listf}\")\n",
    "    #print(f\"gradients : {listg}\")\n",
    "    if k==MaxIt:\n",
    "        print(f\"l'algorithme n'a pas convergé en moins de {MaxIt} itérations \")\n",
    "        print(f\"Dernier x obtenu : {x}\")\n",
    "        print(f\"Dernier gradient obtenu : {oracle(x,3)} \")\n",
    "        print(f\"Dernière valeur de la fonction obtenu: {oracle(x,1)} \")\n",
    "    else:\n",
    "        print(f\"l'algorithme a convergé en {k} itérations \")\n",
    "        print(f\"Coordonnées de la solution : {x}\")\n",
    "        print(f\"Dernier gradient obtenu : {oracle(x,3)} \")\n",
    "        print(f\"Valeur de la solution : {oracle(x,1)} \")\n",
    "    xi = [listx[i][0] for i in range(len(listx))]\n",
    "    yi = [listx[i][1] for i in range(len(listx))]   \n",
    "    plt.plot(xi,yi,'ob')\n",
    "    plt.show()"
   ]
  },
  {
   "cell_type": "code",
   "execution_count": 17,
   "metadata": {},
   "outputs": [
    {
     "name": "stdout",
     "output_type": "stream",
     "text": [
      "l'algorithme a convergé en 63 itérations \n",
      "Coordonnées de la solution : [11.00000157 10.99999843]\n",
      "Dernier gradient obtenu : [ 6.27710173e-06 -6.27710173e-06] \n",
      "Valeur de la solution : 9.833911462919787e-12 \n"
     ]
    },
    {
     "data": {
      "image/png": "[encoded data removed]",
      "text/plain": [
       "<Figure size 432x288 with 1 Axes>"
      ]
     },
     "metadata": {
      "needs_background": "light"
     },
     "output_type": "display_data"
    }
   ],
   "source": [
    "x0=np.array([9,13])\n",
    "methode_gradient_Armijo(oracle1, x0, MaxIt=1000,t=0.45)"
   ]
  },
  {
   "cell_type": "code",
   "execution_count": 18,
   "metadata": {},
   "outputs": [
    {
     "name": "stdout",
     "output_type": "stream",
     "text": [
      "l'algorithme n'a pas convergé en moins de 10000 itérations \n",
      "Dernier x obtenu : [-2.7453794   7.60312861]\n",
      "Dernier gradient obtenu : [-0.24069677  1.32041168] \n",
      "Dernière valeur de la fonction obtenu: 14.071453993321624 \n"
     ]
    },
    {
     "data": {
      "image/png": "[encoded data removed]",
      "text/plain": [
       "<Figure size 432x288 with 1 Axes>"
      ]
     },
     "metadata": {
      "needs_background": "light"
     },
     "output_type": "display_data"
    }
   ],
   "source": [
    "x0=np.array([9,13])\n",
    "methode_gradient_Armijo(oracle2, x0, MaxIt=10000)"
   ]
  },
  {
   "cell_type": "code",
   "execution_count": 19,
   "metadata": {},
   "outputs": [
    {
     "name": "stdout",
     "output_type": "stream",
     "text": [
      "l'algorithme a convergé en 123 itérations \n",
      "Coordonnées de la solution : [5.36059907e-06 7.74308755e-06]\n",
      "Dernier gradient obtenu : [5.36059907e-06 7.74308755e-06] \n",
      "Valeur de la solution : 4.4345713580575196e-11 \n"
     ]
    },
    {
     "data": {
      "image/png": "[encoded data removed]",
      "text/plain": [
       "<Figure size 432x288 with 1 Axes>"
      ]
     },
     "metadata": {
      "needs_background": "light"
     },
     "output_type": "display_data"
    }
   ],
   "source": [
    "x0=np.array([9,13])\n",
    "methode_gradient_Armijo(oracle3, x0, MaxIt=1000, t=0.11)"
   ]
  },
  {
   "cell_type": "code",
   "execution_count": 20,
   "metadata": {},
   "outputs": [
    {
     "name": "stdout",
     "output_type": "stream",
     "text": [
      "l'algorithme a convergé en 1427 itérations \n",
      "Coordonnées de la solution : [0.00000000e+00 5.90775791e-07 1.18155158e-06 1.77232737e-06\n",
      " 2.36310317e-06 2.95387896e-06 3.54465475e-06 4.13543054e-06\n",
      " 4.72620633e-06 5.31698212e-06]\n",
      "Dernier gradient obtenu : [0.00000000e+00 5.90775791e-07 1.18155158e-06 1.77232737e-06\n",
      " 2.36310317e-06 2.95387896e-06 3.54465475e-06 4.13543054e-06\n",
      " 4.72620633e-06 5.31698212e-06] \n",
      "Valeur de la solution : 4.9734785102480436e-11 \n"
     ]
    },
    {
     "data": {
      "image/png": "[encoded data removed]",
      "text/plain": [
       "<Figure size 432x288 with 1 Axes>"
      ]
     },
     "metadata": {
      "needs_background": "light"
     },
     "output_type": "display_data"
    }
   ],
   "source": [
    "x0=[i for i in range(10)]\n",
    "methode_gradient_Armijo(oracle3, x0,MaxIt=3000)"
   ]
  },
  {
   "cell_type": "code",
   "execution_count": 21,
   "metadata": {},
   "outputs": [
    {
     "name": "stdout",
     "output_type": "stream",
     "text": [
      "l'algorithme n'a pas convergé en moins de 5000 itérations \n",
      "Dernier x obtenu : [0.000e+00 1.000e+00 2.000e+00 ... 9.997e+03 9.998e+03 9.999e+03]\n",
      "Dernier gradient obtenu : [0.000e+00 1.000e+00 2.000e+00 ... 9.997e+03 9.998e+03 9.999e+03] \n",
      "Dernière valeur de la fonction obtenu: 166641667500.0 \n"
     ]
    },
    {
     "data": {
      "image/png": "[encoded data removed]",
      "text/plain": [
       "<Figure size 432x288 with 1 Axes>"
      ]
     },
     "metadata": {
      "needs_background": "light"
     },
     "output_type": "display_data"
    }
   ],
   "source": [
    "x0=[i for i in range(10000)]\n",
    "methode_gradient_Armijo(oracle3, x0,MaxIt=5000)"
   ]
  },
  {
   "cell_type": "markdown",
   "metadata": {},
   "source": [
    "#### Task 5. Apply your gradient method with Armijo's line search to the problem :"
   ]
  },
  {
   "cell_type": "markdown",
   "metadata": {},
   "source": [
    "$$\n",
    "\\left.\n",
    "    \\begin{array}{lcll}\n",
    "    \\min_{x \\in \\mathfrak{R}^n} f_{4}(x) & with & f_{4}(x)=\\sum_{i=0}^{n}[i(x_{i})^2+10(x_{i})^4] & \\nabla f_{4}(x)=\\left(\n",
    "                                                                                                                        \\begin{array}{c} \n",
    "                                                                                                                        2x_{1} + 40(x_{1})^3 \\\\\n",
    "                                                                                                                        \\cdots \\\\\n",
    "                                                                                                                        2ix_{i} + 40(x_{i})^3 \\\\\n",
    "                                                                                                                        \\cdots \\\\\n",
    "                                                                                                                        2nx_{n} + 40(x_{n})^3 \\\\\n",
    "                                                                                                                        \\end{array}\n",
    "                                                                                                                    \\right) \\\\ \\\\\n",
    "    Set & x^0 = (10,10,...,-10).\n",
    "    \n",
    "    \\end{array}\n",
    "\\right.\n",
    "$$"
   ]
  },
  {
   "cell_type": "code",
   "execution_count": 22,
   "metadata": {},
   "outputs": [],
   "source": [
    "def oracle4(x, mode):\n",
    "    if mode==1:\n",
    "        return sum(np.arange(1,len(x)+1) * x**2 + 10 * x**4)\n",
    "    if mode==2:\n",
    "        return sum(np.arange(1,len(x)+1) * x**2 +10 * x**4), np.arange(1,len(x)+1)* x * 2 + 40 * x**3\n",
    "    if mode==3:\n",
    "        return np.arange(1,len(x)+1)* x * 2 + 40 * x**3"
   ]
  },
  {
   "cell_type": "code",
   "execution_count": 23,
   "metadata": {},
   "outputs": [
    {
     "name": "stdout",
     "output_type": "stream",
     "text": [
      "l'algorithme a convergé en 9526 itérations \n",
      "Coordonnées de la solution : [-4.99722780e-04  1.57432547e-06]\n",
      "Dernier gradient obtenu : [-9.99450551e-04  6.29730186e-06] \n",
      "Valeur de la solution : 2.4972843735962827e-07 \n"
     ]
    },
    {
     "data": {
      "image/png": "[encoded data removed]",
      "text/plain": [
       "<Figure size 432x288 with 1 Axes>"
      ]
     },
     "metadata": {
      "needs_background": "light"
     },
     "output_type": "display_data"
    }
   ],
   "source": [
    "x0=np.array([10,-10])\n",
    "methode_gradient_Armijo(oracle4, x0, MaxIt=10000, t=1, tol=10e-4, m1=0.001, theta=0.2)"
   ]
  },
  {
   "cell_type": "code",
   "execution_count": 24,
   "metadata": {},
   "outputs": [
    {
     "name": "stdout",
     "output_type": "stream",
     "text": [
      "l'algorithme a convergé en 9526 itérations \n",
      "Coordonnées de la solution : [-4.99722780e-04 -1.57432547e-06 -4.27974204e-09  1.09282246e-11]\n",
      "Dernier gradient obtenu : [-9.99450551e-04 -6.29730186e-06 -2.56784523e-08  8.74257969e-11] \n",
      "Valeur de la solution : 2.497284374145773e-07 \n"
     ]
    },
    {
     "data": {
      "image/png": "[encoded data removed]",
      "text/plain": [
       "<Figure size 432x288 with 1 Axes>"
      ]
     },
     "metadata": {
      "needs_background": "light"
     },
     "output_type": "display_data"
    }
   ],
   "source": [
    "x0=np.array([10,10,10,-10])\n",
    "methode_gradient_Armijo(oracle4, x0, MaxIt=10000, t=1, tol=10e-4, m1=0.001, theta=0.2)"
   ]
  },
  {
   "cell_type": "markdown",
   "metadata": {},
   "source": [
    "### 2 Constrained optimization : a variant of the LASSAO problem"
   ]
  },
  {
   "cell_type": "markdown",
   "metadata": {},
   "source": [
    "#### Task 6. Consider the following items."
   ]
  },
  {
   "cell_type": "markdown",
   "metadata": {},
   "source": [
    "##### 1. Is (LASSO) a convex optimization problem? Justify your answer."
   ]
  },
  {
   "cell_type": "markdown",
   "metadata": {},
   "source": [
    "Afin de montrer que le problème LASSO est convexe, il faut montrer que la fonction est convexe et que l'ensemble des solutions, $ x \\in \\mathfrak{R}^n $, est également convexe."
   ]
  },
  {
   "cell_type": "markdown",
   "metadata": {},
   "source": [
    "Démontrons que f<sub>5</sub> est convexe :"
   ]
  },
  {
   "cell_type": "markdown",
   "metadata": {},
   "source": [
    "$$\n",
    "\\left.\n",
    "    \\begin{array}{llll}\n",
    "    f_{5}(x) = \\frac12 \\left\\|y-Hx\\right\\|^2 & \\nabla f_{5}(x)=\\left(\n",
    "                                                                    \\begin{array}{c} \n",
    "                                                                    -H_{1}.(y - Hx) \\\\\n",
    "                                                                    \\cdots \\\\\n",
    "                                                                    -H_{j}.(y - Hx) \\\\\n",
    "                                                                    \\cdots \\\\\n",
    "                                                                    -H_{n}.(y - Hx) \\\\\n",
    "                                                                    \\end{array}\n",
    "                                                                \\right)  =  H.(y-Hx) & \\nabla ^2 f_{5}(x) = H^2 \\ge 0\\\\\n",
    "    \\end{array}\n",
    "\\right.\n",
    "$$"
   ]
  },
  {
   "cell_type": "markdown",
   "metadata": {},
   "source": [
    "La fonction f<sub>5</sub> est de classe $ C^2 $, le gradient est dérivable et continu et le Hessien est continu.<br>\n",
    "$ x \\in \\mathfrak{R}^n $, et $ \\mathfrak{R}^n $ est ouvert et convexe. <br>\n",
    "Alors f<sub>5</sub> est convexe si et seulement si son hessien est semi-defini positif $ \\forall x \\in \\mathfrak{R}^n$ .<br>\n",
    "Et comme nous pouvons le remarquer, le Hessien de la fonction f<sub>5</sub> relative au problème LASSO est toujours positif.<br>\n",
    "La fonction f<sub>5</sub> est donc convexe."
   ]
  },
  {
   "cell_type": "markdown",
   "metadata": {},
   "source": [
    "Démontrons que l'ensemble des solutions, $ x \\in \\mathfrak{R}^n $, est également convexe :<br>"
   ]
  },
  {
   "cell_type": "markdown",
   "metadata": {},
   "source": [
    "\n",
    "$$\n",
    "\\left.\n",
    "    \\begin{array}{lclc}\n",
    "    Prenons & x,y \\in X & et & \\lambda \\in [0,1] & \\\\\n",
    "    Alors & \\left\\| x \\right\\|_{1} \\le \\tau & et & \\left\\| y \\right\\|_{1} \\le \\tau \\\\\n",
    "    Comme &   x \\le \\left\\| x \\right\\|_{1}& et &  y \\le \\left\\| y \\right\\|_{1}\\\\\n",
    "    \\\\\n",
    "    On ~ a ~ alors & \\lambda y + (1-\\lambda)x & \\le & \\lambda \\tau + (1-\\lambda) \\tau \\\\\n",
    "    & & \\le & 1 & \\\\\n",
    "    & & \\le & \\tau \\\\\n",
    "\n",
    "\n",
    "    \\end{array}\n",
    "\\right.\n",
    "$$"
   ]
  },
  {
   "cell_type": "markdown",
   "metadata": {},
   "source": [
    "$ \\lambda y + (1-\\lambda)x \\in X$ alors l'ensemble est également convexe."
   ]
  },
  {
   "cell_type": "markdown",
   "metadata": {},
   "source": [
    "Par définition, la fonction et l'ensemble étant convexe, le problème est également convexe."
   ]
  },
  {
   "cell_type": "markdown",
   "metadata": {},
   "source": [
    "##### 2. Implement an oracle for f<sub>5</sub>"
   ]
  },
  {
   "cell_type": "code",
   "execution_count": 25,
   "metadata": {},
   "outputs": [],
   "source": [
    "def oracle5(x, y, H, mode):\n",
    "    if mode==1:\n",
    "        return 1/2 * (np.linalg.norm(y - np.dot(x,H)))**2\n",
    "    if mode==2:\n",
    "        return 1/2 * (np.linalg.norm(y - np.dot(x,H)))**2 , np.dot(-H,y - np.dot(x,H))\n",
    "    if mode==3:\n",
    "        return np.dot(-H,y - np.dot(x,H))"
   ]
  },
  {
   "cell_type": "code",
   "execution_count": 26,
   "metadata": {},
   "outputs": [
    {
     "data": {
      "text/plain": [
       "(3941.9999999999995, array([556, 898, 922]))"
      ]
     },
     "execution_count": 26,
     "metadata": {},
     "output_type": "execute_result"
    }
   ],
   "source": [
    "y=np.array([1,2,3,4])\n",
    "H= np.array([[3,2,1,6],[6,5,4,9],[-6,5,-4,9]])\n",
    "x=np.array([5,2,4])\n",
    "oracle5(x,y,H,2)"
   ]
  },
  {
   "cell_type": "markdown",
   "metadata": {},
   "source": [
    "##### 3. Given a vector c $ \\in \\mathfrak{R} $, provide a (generic) solution of the problem "
   ]
  },
  {
   "cell_type": "markdown",
   "metadata": {},
   "source": [
    "$$\n",
    "min ~ c^\\top x ~ s.t. ~ \\left\\| x \\right\\|_{1} \\le \\tau \n",
    "$$"
   ]
  },
  {
   "cell_type": "code",
   "execution_count": 27,
   "metadata": {},
   "outputs": [],
   "source": [
    "def oracle6(x, cost, mode):\n",
    "    \n",
    "    if mode==1:\n",
    "        return np.dot(x,cost)\n",
    "    if mode==2:\n",
    "        return np.dot(x,cost), cost\n",
    "    if mode==3:\n",
    "        return cost"
   ]
  },
  {
   "cell_type": "markdown",
   "metadata": {},
   "source": [
    "Afin d'implémenter un algorithme de résolution au problème avec contrainte simple, nous avons besoin d'une fonction permettant de calculer la projection suivante :"
   ]
  },
  {
   "cell_type": "markdown",
   "metadata": {},
   "source": [
    "$$\n",
    "Proj(\\left\\| x \\right\\|_{1} \\le \\tau) = \\frac {\\tau}{\\max \\left\\| x \\right\\|_{1}, \\tau}x\n",
    "$$"
   ]
  },
  {
   "cell_type": "code",
   "execution_count": 28,
   "metadata": {},
   "outputs": [],
   "source": [
    "def proj(x,tau):\n",
    "    return tau/max(np.linalg.norm(x, ord=1),tau)*x"
   ]
  },
  {
   "cell_type": "code",
   "execution_count": 29,
   "metadata": {},
   "outputs": [],
   "source": [
    "def Armijo_gp(x, cost, fdex, gradient, t, oracle, m1, theta):\n",
    "    p=0\n",
    "    while oracle(x - t*gradient,cost,1) >= fdex + m1 * t * np.dot(gradient,-gradient) and p<50:\n",
    "        t = theta * t\n",
    "        p = p + 1\n",
    "    return t"
   ]
  },
  {
   "cell_type": "code",
   "execution_count": 30,
   "metadata": {},
   "outputs": [],
   "source": [
    "def methode_gradient_projeté(oracle, x0, cost, MaxIt=1000, t=0.5, tol=10e-2, m1=0.001, theta=0.2):\n",
    "    x=x0\n",
    "\n",
    "    tau=max(np.linalg.norm(x, ord=1),1)\n",
    "\n",
    "    k=0\n",
    "    listx=[x0]\n",
    "    listg=[]\n",
    "    listf=[]\n",
    "\n",
    "    while np.linalg.norm(x - proj(x - oracle(x,cost,3), tau) > tol) and (k < MaxIt):\n",
    "        t = Armijo_gp(x,cost, oracle(x,cost,1), oracle(x,cost,3), t, oracle, m1, theta)\n",
    "        y = x - t * oracle(x,cost,3)\n",
    "        x = proj(y,tau)\n",
    "        k = k + 1\n",
    "        listf.append(oracle(x,cost,1))\n",
    "        listg.append(oracle(x,cost,3))\n",
    "        listx.append(x)\n",
    "        \n",
    "    #print(tau)    \n",
    "    #print(f\"coordo : {listx}\")\n",
    "    #print(f\"valeur : {listf}\")\n",
    "    #print(f\"gradients : {listg}\")\n",
    "    if k==MaxIt:\n",
    "        print(f\"l'algorithme n'a pas convergé en moins de {MaxIt} itérations \")\n",
    "        print(f\"Dernier x obtenu : {x}\")\n",
    "        print(f\"Dernier gradient obtenu : {oracle(x,cost,3)} \")\n",
    "        print(f\"Dernière valeur de la fonction obtenu: {oracle(x,cost,1)} \")\n",
    "    else:\n",
    "        print(f\"l'algorithme a convergé en {k} itérations \")\n",
    "        print(f\"Coordonnées de la solution : {x}\")\n",
    "        print(f\"Dernier gradient obtenu : {oracle(x,cost,3)} \")\n",
    "        print(f\"Valeur de la solution : {oracle(x,cost,1)} \")\n",
    "    xi = [listx[i][0] for i in range(len(listx))]\n",
    "    yi = [listx[i][1] for i in range(len(listx))]   \n",
    "    plt.plot(xi,yi,'ob')\n",
    "    plt.show()\n"
   ]
  },
  {
   "cell_type": "code",
   "execution_count": 31,
   "metadata": {},
   "outputs": [
    {
     "name": "stdout",
     "output_type": "stream",
     "text": [
      "l'algorithme a convergé en 14 itérations \n",
      "Coordonnées de la solution : [ -3.61545877  -4.84288997 -11.14713301   1.39451825]\n",
      "Dernier gradient obtenu : [ 3  4  9 -1] \n",
      "Valeur de la solution : -131.93665152797186 \n"
     ]
    },
    {
     "data": {
      "image/png": "[encoded data removed]",
      "text/plain": [
       "<Figure size 432x288 with 1 Axes>"
      ]
     },
     "metadata": {
      "needs_background": "light"
     },
     "output_type": "display_data"
    }
   ],
   "source": [
    "x0=np.array([5,6,6,4])\n",
    "cost=np.array([3,4,9,-1])\n",
    "methode_gradient_projeté(oracle6, x0, cost, MaxIt=1000)"
   ]
  },
  {
   "cell_type": "markdown",
   "metadata": {},
   "source": [
    "##### 4. Implement FW algorithm for solving (LASSO)"
   ]
  },
  {
   "cell_type": "markdown",
   "metadata": {},
   "source": [
    "$$\n",
    "\\min f_{5}(x) ~ s.t. \\left\\| x \\right\\|_{1}\\le \\tau\n",
    "$$"
   ]
  },
  {
   "cell_type": "code",
   "execution_count": 32,
   "metadata": {},
   "outputs": [],
   "source": [
    "def oracle5_2(x, y, H, mode):\n",
    "    if mode==1:\n",
    "        return 1/2 * (np.linalg.norm(y.transpose() - np.dot(H,x)))**2\n",
    "    if mode==2:\n",
    "        return 1/2 * (np.linalg.norm(y.transpose() - np.dot(H,x)))**2 , np.dot(y.transpose()-np.dot(H,x),-H)\n",
    "    if mode==3:\n",
    "        return np.dot(y.transpose()-np.dot(H,x),-H)"
   ]
  },
  {
   "cell_type": "markdown",
   "metadata": {},
   "source": [
    "Pour implémenter l'agorithme de Frank Wolfe nous devons utiliser une fonction qui permet de trouver un vecteur $ y \\in X$, pour lequel, $$ \\nabla f_{5}(x)^\\top(y-x)$$  est minimum."
   ]
  },
  {
   "cell_type": "markdown",
   "metadata": {},
   "source": [
    "Or, par définition \n",
    "$$\n",
    "\\left.\n",
    "    \\begin{array}{ccc}\n",
    "        \\left\\| x \\right\\|_{1}\\le \\tau & \\Rightarrow & -\\tau \\le x_{i}\\le \\tau & \\forall i \\in [1,n] \\\\\n",
    "        & \\Rightarrow & -\\tau -  x_{i} \\le 0 \\\\\n",
    "        & \\Rightarrow & ~~~\\tau -  x_{i} \\ge 0 \n",
    "    \\end{array}\n",
    "\\right.\n",
    "$$"
   ]
  },
  {
   "cell_type": "markdown",
   "metadata": {},
   "source": [
    "Donc\n",
    "$$\n",
    "\\left.\n",
    "    \\begin{array}{ccll}\n",
    "        Si & \\nabla f_5(x_i) \\le 0 & \\Rightarrow & \\argmin _{y_i \\in X}  \\nabla f_5(x_i)(y_i - x_i)=\\tau & \\forall i \\in [1,n] \\\\\n",
    "        Si & \\nabla f_5(x_i) \\ge 0 & \\Rightarrow & \\argmin _{y_i \\in X}  \\nabla f_5(x_i)(y_i - x_i)=-\\tau & \\forall i \\in [1,n] \\\\\n",
    "         \n",
    "    \\end{array}\n",
    "\\right.\n",
    "$$"
   ]
  },
  {
   "cell_type": "markdown",
   "metadata": {},
   "source": [
    "On recherche alors, l'argument minimum du vecteur suivant :\n",
    "\n",
    "$$\n",
    "mini=\\argmin  \\nabla f_5(x_i)*(-signe(\\nabla f_5(x_i))*\\tau - x_i)\n",
    "$$\n",
    "\n",
    "Le vecteur retourné aura tous ses terme nul sauf celui qui minimine la fonction ci-dessus et sera égale à :\n",
    "\n",
    "$$\n",
    "-signe(\\nabla f_5(x_{mini}))*\\tau\n",
    "$$"
   ]
  },
  {
   "cell_type": "code",
   "execution_count": 33,
   "metadata": {},
   "outputs": [],
   "source": [
    "def argument_min(oracle, x, y, H, tau):\n",
    "    y_k=np.zeros((oracle(x,y, H,3)).shape[1])\n",
    "    mini=np.argmin(oracle(x,y, H,3)*(-np.sign(oracle(x,y, H,3))*tau-x))\n",
    "    y_k[mini]=-np.sign(oracle(x,y, H,3)[0][mini])*tau\n",
    "    return y_k"
   ]
  },
  {
   "cell_type": "code",
   "execution_count": 34,
   "metadata": {},
   "outputs": [],
   "source": [
    "def methode_FW(oracle, x0, y, H, tau,  MaxIt=10e5, t=0.5, tol=0.1, m1=0.001, theta=0.2):\n",
    "    x=x0\n",
    "\n",
    "    y_k=argument_min(oracle, x, y,H,tau)\n",
    "    \n",
    "    stat = np.dot(-oracle(x,y, H,3),(y_k-x))\n",
    "\n",
    "    k=0\n",
    "    listx=[x0]\n",
    "    listg=[]\n",
    "    listf=[]\n",
    "\n",
    "    while stat > tol and (k < MaxIt):\n",
    "\n",
    "        t = 2/(2+k)\n",
    "        d = y_k - x\n",
    "        x = x + t * d\n",
    "        k = k + 1\n",
    "\n",
    "        listf.append(oracle(x,y, H,1))\n",
    "        listg.append(oracle(x,y, H,3))\n",
    "        listx.append(x)\n",
    "\n",
    "        y_k=argument_min(oracle, x, y,H,tau)\n",
    "        stat = np.dot(-oracle(x,y, H,3),(y_k-x))\n",
    "        \n",
    "    if k==MaxIt:\n",
    "        print(f\"l'algorithme n'a pas convergé en moins de {MaxIt} itérations \")\n",
    "        print(f\"Dernier x obtenu : {x}\")\n",
    "        print(f\"Dernier gradient obtenu : {oracle(x,y, H,3)} \")\n",
    "        print(f\"Dernière valeur de la fonction obtenu: {oracle(x,y, H,1)} \")\n",
    "    else:\n",
    "        print(f\"l'algorithme a convergé en {k} itérations \")\n",
    "        print(f\"Coordonnées de la solution : {x}\")\n",
    "        print(f\"Dernier gradient obtenu : {oracle(x,y, H,3)} \")\n",
    "        print(f\"Valeur de la solution : {oracle(x,y, H,1)} \")\n",
    "    \n",
    "    return x"
   ]
  },
  {
   "cell_type": "code",
   "execution_count": 35,
   "metadata": {},
   "outputs": [
    {
     "name": "stdout",
     "output_type": "stream",
     "text": [
      "l'algorithme a convergé en 947 itérations \n",
      "Coordonnées de la solution : [0. 0. 0. ... 0. 0. 0.]\n",
      "Dernier gradient obtenu : [[-0.10396146  0.13146921  0.03408514 ...  0.03760418  0.22788732\n",
      "   0.04170726]] \n",
      "Valeur de la solution : 2.1143597384252266 \n"
     ]
    }
   ],
   "source": [
    "y=np.array(pd.read_csv(\"y.csv\", index_col=None, header=None))\n",
    "H= np.array(pd.read_csv(\"H.csv\", index_col=None, header=None))\n",
    "x0=np.zeros(H.shape[1])\n",
    "sol= methode_FW(oracle5_2, x0, y, H , 24)\n"
   ]
  },
  {
   "cell_type": "code",
   "execution_count": 36,
   "metadata": {},
   "outputs": [
    {
     "data": {
      "text/plain": [
       "<BarContainer object of 1024 artists>"
      ]
     },
     "execution_count": 36,
     "metadata": {},
     "output_type": "execute_result"
    },
    {
     "data": {
      "image/png": "[encoded data removed]",
      "text/plain": [
       "<Figure size 432x288 with 1 Axes>"
      ]
     },
     "metadata": {
      "needs_background": "light"
     },
     "output_type": "display_data"
    }
   ],
   "source": [
    "plt.bar(np.arange(len(sol)),sol)"
   ]
  }
 ],
 "metadata": {
  "kernelspec": {
   "display_name": "Python 3.9.12 ('base')",
   "language": "python",
   "name": "python3"
  },
  "language_info": {
   "codemirror_mode": {
    "name": "ipython",
    "version": 3
   },
   "file_extension": ".py",
   "mimetype": "text/x-python",
   "name": "python",
   "nbconvert_exporter": "python",
   "pygments_lexer": "ipython3",
   "version": "3.9.12"
  },
  "orig_nbformat": 4,
  "vscode": {
   "interpreter": {
    "hash": "ad2bdc8ecc057115af97d19610ffacc2b4e99fae6737bb82f5d7fb13d2f2c186"
   }
  }
 },
 "nbformat": 4,
 "nbformat_minor": 2
}
